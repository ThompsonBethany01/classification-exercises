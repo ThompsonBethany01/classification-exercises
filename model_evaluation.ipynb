{
 "cells": [
  {
   "cell_type": "markdown",
   "metadata": {},
   "source": [
    "# Evaluation Exercises"
   ]
  },
  {
   "cell_type": "markdown",
   "metadata": {},
   "source": [
    "## 1. Given the following confusion matrix, evaluate (by hand) the model's performance.\n",
    "\n",
    "\n",
    "|               | actual cat | actual dog |\n",
    "|:------------  |-----------:|-----------:|\n",
    "| predicted cat |         34 |          7 |\n",
    "| predicted dog |         13 |         46 |"
   ]
  },
  {
   "cell_type": "markdown",
   "metadata": {},
   "source": [
    "##### This model seems to predict dogs better than cats, I will assume the baseline is to predict a pet is a dog when shown a dog or cat."
   ]
  },
  {
   "cell_type": "markdown",
   "metadata": {},
   "source": [
    "### In the context of this problem, what is a false positive?"
   ]
  },
  {
   "cell_type": "markdown",
   "metadata": {},
   "source": [
    "- positive is the model predicting a dog\n",
    "- the positive being false means the prediction was not true\n",
    "- a false positive is a cat predicted to be a dog"
   ]
  },
  {
   "cell_type": "markdown",
   "metadata": {},
   "source": [
    "### In the context of this problem, what is a false negative?"
   ]
  },
  {
   "cell_type": "markdown",
   "metadata": {},
   "source": [
    "- negative is the model predicting the animal to be a cat\n",
    "- false would mean the prediction is not true\n",
    "- a false negative is the model predicting the animal is a dog when it is actually a cat"
   ]
  },
  {
   "cell_type": "markdown",
   "metadata": {},
   "source": [
    "### How would you describe this model?"
   ]
  },
  {
   "cell_type": "markdown",
   "metadata": {},
   "source": [
    "- Accuracy:\n",
    "    - (total correct) / (total observations)\n",
    "    - ((predicted dog & actual dog) + (predicted cat & actual cat)) / (total observations)\n",
    "    - (46 + 34) / (46 + 34 + 13 + 7)\n",
    "    - 80 / 100\n",
    "        - 80% accuracy\n",
    "- Precision: \n",
    "    - (true positives) / (true positive + false positives)\n",
    "    - (predicted dog & actual dog) / ((predicted dog & actual dog) + (predictied dog & actual cat))\n",
    "    - (46) / (46 + 13)\n",
    "    - 46 / 59\n",
    "        - 78% precision\n",
    "- Recall (Sensitivity): \n",
    "    - (true positives) / (true positives + false negatives)\n",
    "    - (predicted dog & actual dog) / ((predicted dog & actual dog) + (predicted cat & actual dog))\n",
    "    - (46) / (46 + 7)\n",
    "    - 46 / 53\n",
    "        - 87% recall\n",
    "- Specificity:\n",
    "    - true negatives / all negatives\n",
    "    - (predicted cat & actual cat) / ((predicted cat & actual cat) + (predicted dog & actual cat))\n",
    "    - (34) / (34 + 13)\n",
    "    - 34 / 47\n",
    "        - 72% specificity"
   ]
  },
  {
   "cell_type": "markdown",
   "metadata": {},
   "source": [
    "## 2. You are working as a datascientist working for Codeup Cody Creator (C3 for short), a rubber-duck manufacturing plant."
   ]
  },
  {
   "cell_type": "markdown",
   "metadata": {},
   "source": [
    "Unfortunately, some of the rubber ducks that are produced will have defects. Your team has built several models that try to predict those defects, and the data from their predictions can be found here.\n",
    "\n",
    "Use the predictions dataset and pandas to help answer the following questions:"
   ]
  },
  {
   "cell_type": "code",
   "execution_count": 3,
   "metadata": {},
   "outputs": [],
   "source": [
    "import pandas as pd\n",
    "cody = pd.read_csv('cody.csv')"
   ]
  },
  {
   "cell_type": "code",
   "execution_count": 4,
   "metadata": {},
   "outputs": [
    {
     "data": {
      "text/html": [
       "<div>\n",
       "<style scoped>\n",
       "    .dataframe tbody tr th:only-of-type {\n",
       "        vertical-align: middle;\n",
       "    }\n",
       "\n",
       "    .dataframe tbody tr th {\n",
       "        vertical-align: top;\n",
       "    }\n",
       "\n",
       "    .dataframe thead th {\n",
       "        text-align: right;\n",
       "    }\n",
       "</style>\n",
       "<table border=\"1\" class=\"dataframe\">\n",
       "  <thead>\n",
       "    <tr style=\"text-align: right;\">\n",
       "      <th></th>\n",
       "      <th>actual</th>\n",
       "      <th>model1</th>\n",
       "      <th>model2</th>\n",
       "      <th>model3</th>\n",
       "    </tr>\n",
       "  </thead>\n",
       "  <tbody>\n",
       "    <tr>\n",
       "      <th>0</th>\n",
       "      <td>No Defect</td>\n",
       "      <td>No Defect</td>\n",
       "      <td>Defect</td>\n",
       "      <td>No Defect</td>\n",
       "    </tr>\n",
       "    <tr>\n",
       "      <th>1</th>\n",
       "      <td>No Defect</td>\n",
       "      <td>No Defect</td>\n",
       "      <td>Defect</td>\n",
       "      <td>Defect</td>\n",
       "    </tr>\n",
       "    <tr>\n",
       "      <th>2</th>\n",
       "      <td>No Defect</td>\n",
       "      <td>No Defect</td>\n",
       "      <td>Defect</td>\n",
       "      <td>No Defect</td>\n",
       "    </tr>\n",
       "    <tr>\n",
       "      <th>3</th>\n",
       "      <td>No Defect</td>\n",
       "      <td>Defect</td>\n",
       "      <td>Defect</td>\n",
       "      <td>Defect</td>\n",
       "    </tr>\n",
       "    <tr>\n",
       "      <th>4</th>\n",
       "      <td>No Defect</td>\n",
       "      <td>No Defect</td>\n",
       "      <td>Defect</td>\n",
       "      <td>No Defect</td>\n",
       "    </tr>\n",
       "  </tbody>\n",
       "</table>\n",
       "</div>"
      ],
      "text/plain": [
       "      actual     model1  model2     model3\n",
       "0  No Defect  No Defect  Defect  No Defect\n",
       "1  No Defect  No Defect  Defect     Defect\n",
       "2  No Defect  No Defect  Defect  No Defect\n",
       "3  No Defect     Defect  Defect     Defect\n",
       "4  No Defect  No Defect  Defect  No Defect"
      ]
     },
     "execution_count": 4,
     "metadata": {},
     "output_type": "execute_result"
    }
   ],
   "source": [
    "cody.head()"
   ]
  },
  {
   "cell_type": "markdown",
   "metadata": {},
   "source": [
    "- An internal team wants to investigate the cause of the manufacturing defects. They tell you that they want to identify as many of the ducks that have a defect as possible. Which evaluation metric would be appropriate here? Which model would be the best fit for this use case?"
   ]
  },
  {
   "cell_type": "markdown",
   "metadata": {},
   "source": [
    "    - The baseline model...the most common case is the duck with no defects. \n",
    "    - To predict the deffects correctly would be classified as a True Negative. \n",
    "    - We want the specificity Rate...the percentage of predicting true negative out of all negatives."
   ]
  },
  {
   "cell_type": "code",
   "execution_count": 26,
   "metadata": {},
   "outputs": [
    {
     "name": "stdout",
     "output_type": "stream",
     "text": [
      "Model 1 Confusion Matrix\n",
      "actual     Defect  No Defect\n",
      "model1                      \n",
      "Defect          8          2\n",
      "No Defect       8        182\n",
      "\n",
      "\n",
      "The specificty rate of model 1 is: 50.0\n",
      "\n",
      "\n",
      "Model 2 Confusion Matrix\n",
      "actual     Defect  No Defect\n",
      "model2                      \n",
      "Defect          9         81\n",
      "No Defect       7        103\n",
      "\n",
      "\n",
      "The specificty rate of model 2 is: 56.25\n",
      "\n",
      "\n",
      "Model 3 Confusion Matrix\n",
      "actual     Defect  No Defect\n",
      "model3                      \n",
      "Defect         13         86\n",
      "No Defect       3         98\n",
      "\n",
      "\n",
      "The specificty rate of model 3 is: 81.25\n"
     ]
    }
   ],
   "source": [
    "# We want the model with the highest specificty rate\n",
    "\n",
    "# model 1 cross tab\n",
    "print('Model 1 Confusion Matrix')\n",
    "print(pd.crosstab(cody.model1, cody.actual))\n",
    "print('\\n')\n",
    "\n",
    "# model 1 specificity rate\n",
    "spec_rate1 = (8 / (8 + 8)) * 100\n",
    "print(\"The specificty rate of model 1 is:\", spec_rate1)\n",
    "print('\\n')\n",
    "\n",
    "# model 2 cross tab\n",
    "print('Model 2 Confusion Matrix')\n",
    "print(pd.crosstab(cody.model2, cody.actual))\n",
    "print('\\n')\n",
    "\n",
    "# model 2 specificity rate\n",
    "spec_rate2 = (9 / (9 + 7)) * 100\n",
    "print(\"The specificty rate of model 2 is:\", spec_rate2)\n",
    "print('\\n')\n",
    "\n",
    "# model 3 cross tab\n",
    "print('Model 3 Confusion Matrix')\n",
    "print(pd.crosstab(cody.model3, cody.actual))\n",
    "\n",
    "# model 1 specificity rate\n",
    "spec_rate3 = (13 / (13 + 3)) * 100\n",
    "print('\\n')\n",
    "print(\"The specificty rate of model 3 is:\", spec_rate3)"
   ]
  },
  {
   "cell_type": "markdown",
   "metadata": {},
   "source": [
    "##### Model 3 has the highest specificity rate - it is the best at predicting that a duck has a defect"
   ]
  },
  {
   "cell_type": "markdown",
   "metadata": {},
   "source": [
    "- Recently several stories in the local news have come out highlighting customers who received a rubber duck with a defect, and portraying C3 in a bad light. The PR team has decided to launch a program that gives customers with a defective duck a vacation to Hawaii. They need you to predict which ducks will have defects, but tell you the really don't want to accidentally give out a vacation package when the duck really doesn't have a defect. Which evaluation metric would be appropriate here? Which model would be the best fit for this use case?"
   ]
  },
  {
   "cell_type": "code",
   "execution_count": 28,
   "metadata": {},
   "outputs": [
    {
     "name": "stdout",
     "output_type": "stream",
     "text": [
      "Model 1 Confusion Matrix\n",
      "actual     Defect  No Defect\n",
      "model1                      \n",
      "Defect          8          2\n",
      "No Defect       8        182\n",
      "\n",
      "\n",
      "The false positive rate of model 1 is: 50.0\n",
      "\n",
      "\n",
      "Model 2 Confusion Matrix\n",
      "actual     Defect  No Defect\n",
      "model2                      \n",
      "Defect          9         81\n",
      "No Defect       7        103\n",
      "\n",
      "\n",
      "The false positive rate of model 2 is: 43.75\n",
      "\n",
      "\n",
      "Model 3 Confusion Matrix\n",
      "actual     Defect  No Defect\n",
      "model3                      \n",
      "Defect         13         86\n",
      "No Defect       3         98\n",
      "\n",
      "\n",
      "The false positive rate of model 3 is: 18.75\n"
     ]
    }
   ],
   "source": [
    "# we do not want a deffective ducky to be classified as not deffective\n",
    "# this would be a false positive case\n",
    "# we will test which model is best with the false positive rate\n",
    "# this is calculated by (false positive / (false positive + true negative))\n",
    "\n",
    "# model 1 cross tab\n",
    "print('Model 1 Confusion Matrix')\n",
    "print(pd.crosstab(cody.model1, cody.actual))\n",
    "print('\\n')\n",
    "\n",
    "# model 1 false positive rate\n",
    "fp_rate1 = (8 / (8 + 8)) * 100\n",
    "print(\"The false positive rate of model 1 is:\", fp_rate1)\n",
    "print('\\n')\n",
    "\n",
    "# model 2 cross tab\n",
    "print('Model 2 Confusion Matrix')\n",
    "print(pd.crosstab(cody.model2, cody.actual))\n",
    "print('\\n')\n",
    "\n",
    "# model 2 false positive rate\n",
    "fp_rate2 = (7 / (9 + 7)) * 100\n",
    "print(\"The false positive rate of model 2 is:\", fp_rate2)\n",
    "print('\\n')\n",
    "\n",
    "# model 3 cross tab\n",
    "print('Model 3 Confusion Matrix')\n",
    "print(pd.crosstab(cody.model3, cody.actual))\n",
    "\n",
    "# model 1 false positive rate\n",
    "fp_rate3 = (3 / (13 + 3)) * 100\n",
    "print('\\n')\n",
    "print(\"The false positive rate of model 3 is:\", fp_rate3)"
   ]
  },
  {
   "cell_type": "markdown",
   "metadata": {},
   "source": [
    "##### Model 3 has the lowest rate of classifying a defective duck as not deffective"
   ]
  },
  {
   "cell_type": "markdown",
   "metadata": {},
   "source": [
    "### 3. You are working as a data scientist for Gives You Paws ™, a subscription based service that shows you cute pictures of dogs or cats (or both for an additional fee)."
   ]
  },
  {
   "cell_type": "markdown",
   "metadata": {},
   "source": [
    "At Gives You Paws, anyone can upload pictures of their cats or dogs. The photos are then put through a two step process. First an automated algorithm tags pictures as either a cat or a dog (Phase I). Next, the photos that have been initially identified are put through another round of review, possibly with some human oversight, before being presented to the users (Phase II).\n",
    "\n",
    "Several models have already been developed with the data, and you can find their results here.\n",
    "\n",
    "Given this dataset, use pandas to create a baseline model (i.e. a model that just predicts the most common class) and answer the following questions:"
   ]
  },
  {
   "cell_type": "markdown",
   "metadata": {},
   "source": [
    "- In terms of accuracy, how do the various models compare to the baseline model? Are any of the models better than the baseline?\n",
    "- Suppose you are working on a team that solely deals with dog pictures. Which of these models would you recomend for Phase I? For Phase II?\n",
    "- Suppose you are working on a team that solely deals with cat pictures. Which of these models would you recomend for Phase I? For Phase II?"
   ]
  },
  {
   "cell_type": "markdown",
   "metadata": {},
   "source": [
    "### 4. Follow the links below to read the documentation about each function, then apply those functions to the data from the previous problem.\n",
    "\n",
    "- sklearn.metrics.accuracy_score\n",
    "- sklearn.metrics.precision_score\n",
    "- sklearn.metrics.recall_score\n",
    "- sklearn.metrics.classification_report"
   ]
  }
 ],
 "metadata": {
  "kernelspec": {
   "display_name": "Python 3",
   "language": "python",
   "name": "python3"
  },
  "language_info": {
   "codemirror_mode": {
    "name": "ipython",
    "version": 3
   },
   "file_extension": ".py",
   "mimetype": "text/x-python",
   "name": "python",
   "nbconvert_exporter": "python",
   "pygments_lexer": "ipython3",
   "version": "3.7.6"
  }
 },
 "nbformat": 4,
 "nbformat_minor": 4
}
