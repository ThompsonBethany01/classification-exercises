{
 "cells": [
  {
   "cell_type": "markdown",
   "metadata": {},
   "source": [
    "# Evaluation Exercises"
   ]
  },
  {
   "cell_type": "markdown",
   "metadata": {},
   "source": [
    "## 1. Given the following confusion matrix, evaluate (by hand) the model's performance.\n",
    "\n",
    "\n",
    "|               | actual cat | actual dog |\n",
    "|:------------  |-----------:|-----------:|\n",
    "| predicted cat |         34 |          7 |\n",
    "| predicted dog |         13 |         46 |"
   ]
  },
  {
   "cell_type": "markdown",
   "metadata": {},
   "source": [
    "##### This model seems to predict dogs better than cats, I will assume the baseline is to predict a pet is a dog when shown a dog or cat."
   ]
  },
  {
   "cell_type": "markdown",
   "metadata": {},
   "source": [
    "### In the context of this problem, what is a false positive?"
   ]
  },
  {
   "cell_type": "markdown",
   "metadata": {},
   "source": [
    "- positive is the model predicting a dog\n",
    "- the positive being false means the prediction was not true\n",
    "- a false positive is a cat predicted to be a dog"
   ]
  },
  {
   "cell_type": "markdown",
   "metadata": {},
   "source": [
    "### In the context of this problem, what is a false negative?"
   ]
  },
  {
   "cell_type": "markdown",
   "metadata": {},
   "source": [
    "- negative is the model predicting the animal to be a cat\n",
    "- false would mean the prediction is not true\n",
    "- a false negative is the model predicting the animal is a dog when it is actually a cat"
   ]
  },
  {
   "cell_type": "markdown",
   "metadata": {},
   "source": [
    "### How would you describe this model?"
   ]
  },
  {
   "cell_type": "markdown",
   "metadata": {},
   "source": [
    "- Accuracy:\n",
    "    - (total correct) / (total observations)\n",
    "    - ((predicted dog & actual dog) + (predicted cat & actual cat)) / (total observations)\n",
    "    - (46 + 34) / (46 + 34 + 13 + 7)\n",
    "    - 80 / 100\n",
    "        - 80% accuracy\n",
    "- Precision: \n",
    "    - (true positives) / (true positive + false positives)\n",
    "    - (predicted dog & actual dog) / ((predicted dog & actual dog) + (predictied dog & actual cat))\n",
    "    - (46) / (46 + 13)\n",
    "    - 46 / 59\n",
    "        - 78% precision\n",
    "- Recall (Sensitivity): \n",
    "    - (true positives) / (true positives + false negatives)\n",
    "    - (predicted dog & actual dog) / ((predicted dog & actual dog) + (predicted cat & actual dog))\n",
    "    - (46) / (46 + 7)\n",
    "    - 46 / 53\n",
    "        - 87% recall\n",
    "- Specificity:\n",
    "    - true negatives / all negatives\n",
    "    - (predicted cat & actual cat) / ((predicted cat & actual cat) + (predicted dog & actual cat))\n",
    "    - (34) / (34 + 13)\n",
    "    - 34 / 47\n",
    "        - 72% specificity"
   ]
  },
  {
   "cell_type": "markdown",
   "metadata": {},
   "source": [
    "## 2. You are working as a datascientist working for Codeup Cody Creator (C3 for short), a rubber-duck manufacturing plant."
   ]
  },
  {
   "cell_type": "markdown",
   "metadata": {},
   "source": [
    "Unfortunately, some of the rubber ducks that are produced will have defects. Your team has built several models that try to predict those defects, and the data from their predictions can be found here.\n",
    "\n",
    "Use the predictions dataset and pandas to help answer the following questions:"
   ]
  },
  {
   "cell_type": "code",
   "execution_count": 3,
   "metadata": {},
   "outputs": [],
   "source": [
    "import pandas as pd\n",
    "cody = pd.read_csv('cody.csv')"
   ]
  },
  {
   "cell_type": "code",
   "execution_count": 4,
   "metadata": {},
   "outputs": [
    {
     "data": {
      "text/html": [
       "<div>\n",
       "<style scoped>\n",
       "    .dataframe tbody tr th:only-of-type {\n",
       "        vertical-align: middle;\n",
       "    }\n",
       "\n",
       "    .dataframe tbody tr th {\n",
       "        vertical-align: top;\n",
       "    }\n",
       "\n",
       "    .dataframe thead th {\n",
       "        text-align: right;\n",
       "    }\n",
       "</style>\n",
       "<table border=\"1\" class=\"dataframe\">\n",
       "  <thead>\n",
       "    <tr style=\"text-align: right;\">\n",
       "      <th></th>\n",
       "      <th>actual</th>\n",
       "      <th>model1</th>\n",
       "      <th>model2</th>\n",
       "      <th>model3</th>\n",
       "    </tr>\n",
       "  </thead>\n",
       "  <tbody>\n",
       "    <tr>\n",
       "      <th>0</th>\n",
       "      <td>No Defect</td>\n",
       "      <td>No Defect</td>\n",
       "      <td>Defect</td>\n",
       "      <td>No Defect</td>\n",
       "    </tr>\n",
       "    <tr>\n",
       "      <th>1</th>\n",
       "      <td>No Defect</td>\n",
       "      <td>No Defect</td>\n",
       "      <td>Defect</td>\n",
       "      <td>Defect</td>\n",
       "    </tr>\n",
       "    <tr>\n",
       "      <th>2</th>\n",
       "      <td>No Defect</td>\n",
       "      <td>No Defect</td>\n",
       "      <td>Defect</td>\n",
       "      <td>No Defect</td>\n",
       "    </tr>\n",
       "    <tr>\n",
       "      <th>3</th>\n",
       "      <td>No Defect</td>\n",
       "      <td>Defect</td>\n",
       "      <td>Defect</td>\n",
       "      <td>Defect</td>\n",
       "    </tr>\n",
       "    <tr>\n",
       "      <th>4</th>\n",
       "      <td>No Defect</td>\n",
       "      <td>No Defect</td>\n",
       "      <td>Defect</td>\n",
       "      <td>No Defect</td>\n",
       "    </tr>\n",
       "  </tbody>\n",
       "</table>\n",
       "</div>"
      ],
      "text/plain": [
       "      actual     model1  model2     model3\n",
       "0  No Defect  No Defect  Defect  No Defect\n",
       "1  No Defect  No Defect  Defect     Defect\n",
       "2  No Defect  No Defect  Defect  No Defect\n",
       "3  No Defect     Defect  Defect     Defect\n",
       "4  No Defect  No Defect  Defect  No Defect"
      ]
     },
     "execution_count": 4,
     "metadata": {},
     "output_type": "execute_result"
    }
   ],
   "source": [
    "cody.head()"
   ]
  },
  {
   "cell_type": "markdown",
   "metadata": {},
   "source": [
    "- An internal team wants to investigate the cause of the manufacturing defects. They tell you that they want to identify as many of the ducks that have a defect as possible. Which evaluation metric would be appropriate here? Which model would be the best fit for this use case?"
   ]
  },
  {
   "cell_type": "markdown",
   "metadata": {},
   "source": [
    "    - The baseline model...the most common case is the duck with no defects. \n",
    "    - To predict the deffects correctly would be classified as a True Negative. \n",
    "    - We want the specificity Rate...the percentage of predicting true negative out of all negatives."
   ]
  },
  {
   "cell_type": "code",
   "execution_count": 26,
   "metadata": {},
   "outputs": [
    {
     "name": "stdout",
     "output_type": "stream",
     "text": [
      "Model 1 Confusion Matrix\n",
      "actual     Defect  No Defect\n",
      "model1                      \n",
      "Defect          8          2\n",
      "No Defect       8        182\n",
      "\n",
      "\n",
      "The specificty rate of model 1 is: 50.0\n",
      "\n",
      "\n",
      "Model 2 Confusion Matrix\n",
      "actual     Defect  No Defect\n",
      "model2                      \n",
      "Defect          9         81\n",
      "No Defect       7        103\n",
      "\n",
      "\n",
      "The specificty rate of model 2 is: 56.25\n",
      "\n",
      "\n",
      "Model 3 Confusion Matrix\n",
      "actual     Defect  No Defect\n",
      "model3                      \n",
      "Defect         13         86\n",
      "No Defect       3         98\n",
      "\n",
      "\n",
      "The specificty rate of model 3 is: 81.25\n"
     ]
    }
   ],
   "source": [
    "# We want the model with the highest specificty rate\n",
    "\n",
    "# model 1 cross tab\n",
    "print('Model 1 Confusion Matrix')\n",
    "print(pd.crosstab(cody.model1, cody.actual))\n",
    "print('\\n')\n",
    "\n",
    "# model 1 specificity rate\n",
    "spec_rate1 = (8 / (8 + 8)) * 100\n",
    "print(\"The specificty rate of model 1 is:\", spec_rate1)\n",
    "print('\\n')\n",
    "\n",
    "# model 2 cross tab\n",
    "print('Model 2 Confusion Matrix')\n",
    "print(pd.crosstab(cody.model2, cody.actual))\n",
    "print('\\n')\n",
    "\n",
    "# model 2 specificity rate\n",
    "spec_rate2 = (9 / (9 + 7)) * 100\n",
    "print(\"The specificty rate of model 2 is:\", spec_rate2)\n",
    "print('\\n')\n",
    "\n",
    "# model 3 cross tab\n",
    "print('Model 3 Confusion Matrix')\n",
    "print(pd.crosstab(cody.model3, cody.actual))\n",
    "\n",
    "# model 1 specificity rate\n",
    "spec_rate3 = (13 / (13 + 3)) * 100\n",
    "print('\\n')\n",
    "print(\"The specificty rate of model 3 is:\", spec_rate3)"
   ]
  },
  {
   "cell_type": "markdown",
   "metadata": {},
   "source": [
    "##### Model 3 has the highest specificity rate - it is the best at predicting that a duck has a defect"
   ]
  },
  {
   "cell_type": "markdown",
   "metadata": {},
   "source": [
    "- Recently several stories in the local news have come out highlighting customers who received a rubber duck with a defect, and portraying C3 in a bad light. The PR team has decided to launch a program that gives customers with a defective duck a vacation to Hawaii. They need you to predict which ducks will have defects, but tell you the really don't want to accidentally give out a vacation package when the duck really doesn't have a defect. Which evaluation metric would be appropriate here? Which model would be the best fit for this use case?"
   ]
  },
  {
   "cell_type": "code",
   "execution_count": 28,
   "metadata": {},
   "outputs": [
    {
     "name": "stdout",
     "output_type": "stream",
     "text": [
      "Model 1 Confusion Matrix\n",
      "actual     Defect  No Defect\n",
      "model1                      \n",
      "Defect          8          2\n",
      "No Defect       8        182\n",
      "\n",
      "\n",
      "The false positive rate of model 1 is: 50.0\n",
      "\n",
      "\n",
      "Model 2 Confusion Matrix\n",
      "actual     Defect  No Defect\n",
      "model2                      \n",
      "Defect          9         81\n",
      "No Defect       7        103\n",
      "\n",
      "\n",
      "The false positive rate of model 2 is: 43.75\n",
      "\n",
      "\n",
      "Model 3 Confusion Matrix\n",
      "actual     Defect  No Defect\n",
      "model3                      \n",
      "Defect         13         86\n",
      "No Defect       3         98\n",
      "\n",
      "\n",
      "The false positive rate of model 3 is: 18.75\n"
     ]
    }
   ],
   "source": [
    "# we do not want a deffective ducky to be classified as not deffective\n",
    "# this would be a false positive case\n",
    "# we will test which model is best with the false positive rate\n",
    "# this is calculated by (false positive / (false positive + true negative))\n",
    "\n",
    "# model 1 cross tab\n",
    "print('Model 1 Confusion Matrix')\n",
    "print(pd.crosstab(cody.model1, cody.actual))\n",
    "print('\\n')\n",
    "\n",
    "# model 1 false positive rate\n",
    "fp_rate1 = (8 / (8 + 8)) * 100\n",
    "print(\"The false positive rate of model 1 is:\", fp_rate1)\n",
    "print('\\n')\n",
    "\n",
    "# model 2 cross tab\n",
    "print('Model 2 Confusion Matrix')\n",
    "print(pd.crosstab(cody.model2, cody.actual))\n",
    "print('\\n')\n",
    "\n",
    "# model 2 false positive rate\n",
    "fp_rate2 = (7 / (9 + 7)) * 100\n",
    "print(\"The false positive rate of model 2 is:\", fp_rate2)\n",
    "print('\\n')\n",
    "\n",
    "# model 3 cross tab\n",
    "print('Model 3 Confusion Matrix')\n",
    "print(pd.crosstab(cody.model3, cody.actual))\n",
    "\n",
    "# model 3 false positive rate\n",
    "fp_rate3 = (3 / (13 + 3)) * 100\n",
    "print('\\n')\n",
    "print(\"The false positive rate of model 3 is:\", fp_rate3)"
   ]
  },
  {
   "cell_type": "markdown",
   "metadata": {},
   "source": [
    "##### Model 3 has the lowest rate of classifying a defective duck as not deffective"
   ]
  },
  {
   "cell_type": "markdown",
   "metadata": {},
   "source": [
    "### 3. You are working as a data scientist for Gives You Paws ™, a subscription based service that shows you cute pictures of dogs or cats (or both for an additional fee)."
   ]
  },
  {
   "cell_type": "markdown",
   "metadata": {},
   "source": [
    "At Gives You Paws, anyone can upload pictures of their cats or dogs. The photos are then put through a two step process. First an automated algorithm tags pictures as either a cat or a dog (Phase I). Next, the photos that have been initially identified are put through another round of review, possibly with some human oversight, before being presented to the users (Phase II).\n",
    "\n",
    "Several models have already been developed with the data, and you can find their results here.\n",
    "\n",
    "Given this dataset, use pandas to create a baseline model (i.e. a model that just predicts the most common class) and answer the following questions:"
   ]
  },
  {
   "cell_type": "code",
   "execution_count": 30,
   "metadata": {},
   "outputs": [],
   "source": [
    "pets = pd.read_csv('gives_you_paws.csv')"
   ]
  },
  {
   "cell_type": "code",
   "execution_count": 31,
   "metadata": {},
   "outputs": [
    {
     "data": {
      "text/html": [
       "<div>\n",
       "<style scoped>\n",
       "    .dataframe tbody tr th:only-of-type {\n",
       "        vertical-align: middle;\n",
       "    }\n",
       "\n",
       "    .dataframe tbody tr th {\n",
       "        vertical-align: top;\n",
       "    }\n",
       "\n",
       "    .dataframe thead th {\n",
       "        text-align: right;\n",
       "    }\n",
       "</style>\n",
       "<table border=\"1\" class=\"dataframe\">\n",
       "  <thead>\n",
       "    <tr style=\"text-align: right;\">\n",
       "      <th></th>\n",
       "      <th>actual</th>\n",
       "      <th>model1</th>\n",
       "      <th>model2</th>\n",
       "      <th>model3</th>\n",
       "      <th>model4</th>\n",
       "    </tr>\n",
       "  </thead>\n",
       "  <tbody>\n",
       "    <tr>\n",
       "      <th>0</th>\n",
       "      <td>cat</td>\n",
       "      <td>cat</td>\n",
       "      <td>dog</td>\n",
       "      <td>cat</td>\n",
       "      <td>dog</td>\n",
       "    </tr>\n",
       "    <tr>\n",
       "      <th>1</th>\n",
       "      <td>dog</td>\n",
       "      <td>dog</td>\n",
       "      <td>cat</td>\n",
       "      <td>cat</td>\n",
       "      <td>dog</td>\n",
       "    </tr>\n",
       "    <tr>\n",
       "      <th>2</th>\n",
       "      <td>dog</td>\n",
       "      <td>cat</td>\n",
       "      <td>cat</td>\n",
       "      <td>cat</td>\n",
       "      <td>dog</td>\n",
       "    </tr>\n",
       "    <tr>\n",
       "      <th>3</th>\n",
       "      <td>dog</td>\n",
       "      <td>dog</td>\n",
       "      <td>dog</td>\n",
       "      <td>cat</td>\n",
       "      <td>dog</td>\n",
       "    </tr>\n",
       "    <tr>\n",
       "      <th>4</th>\n",
       "      <td>cat</td>\n",
       "      <td>cat</td>\n",
       "      <td>cat</td>\n",
       "      <td>dog</td>\n",
       "      <td>dog</td>\n",
       "    </tr>\n",
       "  </tbody>\n",
       "</table>\n",
       "</div>"
      ],
      "text/plain": [
       "  actual model1 model2 model3 model4\n",
       "0    cat    cat    dog    cat    dog\n",
       "1    dog    dog    cat    cat    dog\n",
       "2    dog    cat    cat    cat    dog\n",
       "3    dog    dog    dog    cat    dog\n",
       "4    cat    cat    cat    dog    dog"
      ]
     },
     "execution_count": 31,
     "metadata": {},
     "output_type": "execute_result"
    }
   ],
   "source": [
    "pets.head()"
   ]
  },
  {
   "cell_type": "code",
   "execution_count": 32,
   "metadata": {},
   "outputs": [
    {
     "data": {
      "text/plain": [
       "dog    3254\n",
       "cat    1746\n",
       "Name: actual, dtype: int64"
      ]
     },
     "execution_count": 32,
     "metadata": {},
     "output_type": "execute_result"
    }
   ],
   "source": [
    "pets.actual.value_counts()\n",
    "#most are dogs, this will be our baseline"
   ]
  },
  {
   "cell_type": "code",
   "execution_count": 33,
   "metadata": {},
   "outputs": [],
   "source": [
    "# our baseline model will be to predict it is a dog every time\n",
    "pets['base_model'] = 'dog'"
   ]
  },
  {
   "cell_type": "code",
   "execution_count": 34,
   "metadata": {},
   "outputs": [
    {
     "data": {
      "text/html": [
       "<div>\n",
       "<style scoped>\n",
       "    .dataframe tbody tr th:only-of-type {\n",
       "        vertical-align: middle;\n",
       "    }\n",
       "\n",
       "    .dataframe tbody tr th {\n",
       "        vertical-align: top;\n",
       "    }\n",
       "\n",
       "    .dataframe thead th {\n",
       "        text-align: right;\n",
       "    }\n",
       "</style>\n",
       "<table border=\"1\" class=\"dataframe\">\n",
       "  <thead>\n",
       "    <tr style=\"text-align: right;\">\n",
       "      <th></th>\n",
       "      <th>actual</th>\n",
       "      <th>model1</th>\n",
       "      <th>model2</th>\n",
       "      <th>model3</th>\n",
       "      <th>model4</th>\n",
       "      <th>base_model</th>\n",
       "    </tr>\n",
       "  </thead>\n",
       "  <tbody>\n",
       "    <tr>\n",
       "      <th>0</th>\n",
       "      <td>cat</td>\n",
       "      <td>cat</td>\n",
       "      <td>dog</td>\n",
       "      <td>cat</td>\n",
       "      <td>dog</td>\n",
       "      <td>dog</td>\n",
       "    </tr>\n",
       "    <tr>\n",
       "      <th>1</th>\n",
       "      <td>dog</td>\n",
       "      <td>dog</td>\n",
       "      <td>cat</td>\n",
       "      <td>cat</td>\n",
       "      <td>dog</td>\n",
       "      <td>dog</td>\n",
       "    </tr>\n",
       "    <tr>\n",
       "      <th>2</th>\n",
       "      <td>dog</td>\n",
       "      <td>cat</td>\n",
       "      <td>cat</td>\n",
       "      <td>cat</td>\n",
       "      <td>dog</td>\n",
       "      <td>dog</td>\n",
       "    </tr>\n",
       "    <tr>\n",
       "      <th>3</th>\n",
       "      <td>dog</td>\n",
       "      <td>dog</td>\n",
       "      <td>dog</td>\n",
       "      <td>cat</td>\n",
       "      <td>dog</td>\n",
       "      <td>dog</td>\n",
       "    </tr>\n",
       "    <tr>\n",
       "      <th>4</th>\n",
       "      <td>cat</td>\n",
       "      <td>cat</td>\n",
       "      <td>cat</td>\n",
       "      <td>dog</td>\n",
       "      <td>dog</td>\n",
       "      <td>dog</td>\n",
       "    </tr>\n",
       "  </tbody>\n",
       "</table>\n",
       "</div>"
      ],
      "text/plain": [
       "  actual model1 model2 model3 model4 base_model\n",
       "0    cat    cat    dog    cat    dog        dog\n",
       "1    dog    dog    cat    cat    dog        dog\n",
       "2    dog    cat    cat    cat    dog        dog\n",
       "3    dog    dog    dog    cat    dog        dog\n",
       "4    cat    cat    cat    dog    dog        dog"
      ]
     },
     "execution_count": 34,
     "metadata": {},
     "output_type": "execute_result"
    }
   ],
   "source": [
    "pets.head()"
   ]
  },
  {
   "cell_type": "markdown",
   "metadata": {},
   "source": [
    "In terms of accuracy, how do the various models compare to the baseline model? Are any of the models better than the baseline?"
   ]
  },
  {
   "cell_type": "code",
   "execution_count": 54,
   "metadata": {},
   "outputs": [
    {
     "name": "stdout",
     "output_type": "stream",
     "text": [
      "Model 1 Confusion Matrix\n",
      "actual   cat   dog\n",
      "model1            \n",
      "cat     1423   640\n",
      "dog      323  2614\n",
      "\n",
      "\n",
      "The accuracy rate of model 1 is: 80.74\n",
      "\n",
      "\n",
      "Model 2 Confusion Matrix\n",
      "actual   cat   dog\n",
      "model2            \n",
      "cat     1555  1657\n",
      "dog      191  1597\n",
      "\n",
      "\n",
      "The accuracy rate of model 2 is: 63.04\n",
      "\n",
      "\n",
      "Model 3 Confusion Matrix\n",
      "actual  cat   dog\n",
      "model3           \n",
      "cat     893  1599\n",
      "dog     853  1655\n",
      "\n",
      "\n",
      "The accuracy rate of model 3 is: 50.96\n",
      "\n",
      "\n",
      "Model 4 Confusion Matrix\n",
      "actual   cat   dog\n",
      "model4            \n",
      "cat      603   144\n",
      "dog     1143  3110\n",
      "\n",
      "\n",
      "The accuracy rate of model 4 is: 74.26\n",
      "\n",
      "\n",
      "Baseline Confusion Matrix\n",
      "actual       cat   dog\n",
      "base_model            \n",
      "dog         1746  3254\n",
      "\n",
      "\n",
      "The accuracy rate of the baseline model is: 65.08\n",
      "\n",
      "\n",
      "Model 1 and model 4 are more accurate than the baseline model.\n",
      "Model 2 and model 3 are less accurate than the baseline model.\n"
     ]
    }
   ],
   "source": [
    "# we need to predict accuracy of models 1 through 4 and the baseline model\n",
    "# accuracy is calculated by:\n",
    "# (TP + TN) / (TP + TN + FP + FN)\n",
    "\n",
    "# model 1 cross tab\n",
    "print('Model 1 Confusion Matrix')\n",
    "print(pd.crosstab(pets.model1, pets.actual))\n",
    "print('\\n')\n",
    "\n",
    "# model 1 accuracy rate\n",
    "acc_rate1 = ((1423 + 2614) / (1423 + 2614 + 640 + 323)) * 100\n",
    "print(\"The accuracy rate of model 1 is:\", acc_rate1)\n",
    "print('\\n')\n",
    "\n",
    "# model 2 cross tab\n",
    "print('Model 2 Confusion Matrix')\n",
    "print(pd.crosstab(pets.model2, pets.actual))\n",
    "print('\\n')\n",
    "\n",
    "# model 2 accuracy rate\n",
    "acc_rate2 = ((1555 + 1597) / (1555 + 1597 + 1657 + 191)) * 100\n",
    "print(\"The accuracy rate of model 2 is:\", acc_rate2)\n",
    "print('\\n')\n",
    "\n",
    "# model 3 cross tab\n",
    "print('Model 3 Confusion Matrix')\n",
    "print(pd.crosstab(pets.model3, pets.actual))\n",
    "print('\\n')\n",
    "\n",
    "# model 3 accuracy rate\n",
    "acc_rate3 = ((893 + 1655) / (893 + 1655 + 853 + 1599)) * 100\n",
    "print(\"The accuracy rate of model 3 is:\", round(acc_rate3, 2))\n",
    "print('\\n')\n",
    "\n",
    "# model 4 cross tab\n",
    "print('Model 4 Confusion Matrix')\n",
    "print(pd.crosstab(pets.model4, pets.actual))\n",
    "print('\\n')\n",
    "\n",
    "# model 4 accuracy rate\n",
    "acc_rate4 = ((603 + 3110) / (603 + 3110 + 1143 + 144)) * 100\n",
    "print(\"The accuracy rate of model 4 is:\", acc_rate4)\n",
    "print('\\n')\n",
    "\n",
    "# baseline model cross tab\n",
    "print('Baseline Confusion Matrix')\n",
    "print(pd.crosstab(pets.base_model, pets.actual))\n",
    "\n",
    "# baseline model accuracy rate\n",
    "spec_rate3 = (3254 / (3254 + 1746)) * 100\n",
    "print('\\n')\n",
    "print(\"The accuracy rate of the baseline model is:\", spec_rate3)\n",
    "print('\\n')\n",
    "\n",
    "print(\"Model 1 and model 4 are more accurate than the baseline model.\")\n",
    "print(\"Model 2 and model 3 are less accurate than the baseline model.\")"
   ]
  },
  {
   "cell_type": "markdown",
   "metadata": {},
   "source": [
    "Suppose you are working on a team that solely deals with dog pictures. Which of these models would you recomend for Phase I? For Phase II?"
   ]
  },
  {
   "cell_type": "code",
   "execution_count": 63,
   "metadata": {},
   "outputs": [
    {
     "name": "stdout",
     "output_type": "stream",
     "text": [
      "model 1 precision rate: 89.0\n",
      "model 2 precision rate: 89.32\n",
      "model 3 precision rate: 65.99\n",
      "model 4 precision rate: 73.12\n",
      "\n",
      "\n",
      "Model 2 has the best precision rate.\n"
     ]
    }
   ],
   "source": [
    "# For phase one, we want the most precise model in predicting dogs\n",
    "# a high precision means it is the best at predicting positives (a dog) and being correct in this prediction\n",
    "# precision: % of positive predictions that are correct\n",
    "# precision = TP / (TP + FP)\n",
    "\n",
    "prec_1 = round((2614) / (2614 + 323) * 100, 2)\n",
    "prec_2 = round((1597) / (1597 + 191) * 100, 2)\n",
    "prec_3 = round((1655) / (1655 + 853) * 100, 2)\n",
    "prec_4 = round((3110) / (3110 + 1143) * 100, 2)\n",
    "\n",
    "print('model 1 precision rate:', prec_1)\n",
    "print('model 2 precision rate:', prec_2)\n",
    "print('model 3 precision rate:', prec_3)\n",
    "print('model 4 precision rate:', prec_4)\n",
    "\n",
    "print('\\n')\n",
    "print('Model 2 has the best precision rate.')\n"
   ]
  },
  {
   "cell_type": "code",
   "execution_count": 60,
   "metadata": {},
   "outputs": [
    {
     "name": "stdout",
     "output_type": "stream",
     "text": [
      "model 1 recall rate: 80.33\n",
      "model 2 recall rate: 49.08\n",
      "model 3 recall rate: 50.86\n",
      "model 4 recall rate: 95.57\n",
      "\n",
      "\n",
      "Model 4 has the best recall rate.\n"
     ]
    }
   ],
   "source": [
    "# Phase 2: we want the model to predict dogs correctly when presented a dog\n",
    "# We want the model with the highest recall rate\n",
    "# recall: % of acually positive cases that were predicted as positive\n",
    "# this means, it is the best at predicting dogs correctly\n",
    "# recall = TP / (TP + FN)\n",
    "\n",
    "recall_1 = round((2614) / (2614 + 640) * 100, 2)\n",
    "recall_2 = round((1597) / (1597 + 1657) * 100, 2)\n",
    "recall_3 = round((1655) / (1655 + 1599) * 100, 2)\n",
    "recall_4 = round((3110) / (3110 + 144) * 100, 2)\n",
    "\n",
    "print('model 1 recall rate:', recall_1)\n",
    "print('model 2 recall rate:', recall_2)\n",
    "print('model 3 recall rate:', recall_3)\n",
    "print('model 4 recall rate:', recall_4)\n",
    "\n",
    "print('\\n')\n",
    "print('Model 4 has the best recall rate.')"
   ]
  },
  {
   "cell_type": "markdown",
   "metadata": {},
   "source": [
    "### Phase I: Model 2 --- Phase II: Model 4"
   ]
  },
  {
   "cell_type": "markdown",
   "metadata": {},
   "source": [
    "Suppose you are working on a team that solely deals with cat pictures. Which of these models would you recomend for Phase I? For Phase II?"
   ]
  },
  {
   "cell_type": "code",
   "execution_count": 65,
   "metadata": {},
   "outputs": [
    {
     "name": "stdout",
     "output_type": "stream",
     "text": [
      "Model 1 is the most accurate and will be used for phase 1 of the cat group.\n"
     ]
    }
   ],
   "source": [
    "# For phase 1, we will choose the most accurate model found above\n",
    "print('Model 1 is the most accurate and will be used for phase 1 of the cat group.')"
   ]
  },
  {
   "cell_type": "code",
   "execution_count": 68,
   "metadata": {},
   "outputs": [
    {
     "name": "stdout",
     "output_type": "stream",
     "text": [
      "model 1 specificity rate: 81.5\n",
      "model 2 specificity rate: 89.06\n",
      "model 3 specificity rate: 51.15\n",
      "model 4 specificity rate: 34.54\n",
      "\n",
      "\n",
      "Model 2 has the best specificity rate.\n"
     ]
    }
   ],
   "source": [
    "# For phase 2, we want the model with the best specificity rate\n",
    "# This means it is best at predicting true negative out of all negatives.\n",
    "# specificty = TN / (TN + FP)\n",
    "\n",
    "spec_1 = round((1423) / (1423 + 323) * 100, 2)\n",
    "spec_2 = round((1555) / (1555 + 191) * 100, 2)\n",
    "spec_3 = round((893) / (893 + 853) * 100, 2)\n",
    "spec_4 = round((603) / (603 + 1143) * 100, 2)\n",
    "\n",
    "print('model 1 specificity rate:', spec_1)\n",
    "print('model 2 specificity rate:', spec_2)\n",
    "print('model 3 specificity rate:', spec_3)\n",
    "print('model 4 specificity rate:', spec_4)\n",
    "\n",
    "print('\\n')\n",
    "print('Model 2 has the best specificity rate.')"
   ]
  },
  {
   "cell_type": "code",
   "execution_count": null,
   "metadata": {},
   "outputs": [],
   "source": []
  },
  {
   "cell_type": "markdown",
   "metadata": {},
   "source": [
    "### 4. Follow the links below to read the documentation about each function, then apply those functions to the data from the previous problem.\n",
    "\n",
    "- sklearn.metrics.accuracy_score\n",
    "- sklearn.metrics.precision_score\n",
    "- sklearn.metrics.recall_score\n",
    "- sklearn.metrics.classification_report"
   ]
  }
 ],
 "metadata": {
  "kernelspec": {
   "display_name": "Python 3",
   "language": "python",
   "name": "python3"
  },
  "language_info": {
   "codemirror_mode": {
    "name": "ipython",
    "version": 3
   },
   "file_extension": ".py",
   "mimetype": "text/x-python",
   "name": "python",
   "nbconvert_exporter": "python",
   "pygments_lexer": "ipython3",
   "version": "3.7.6"
  }
 },
 "nbformat": 4,
 "nbformat_minor": 4
}
