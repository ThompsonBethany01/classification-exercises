{
 "cells": [
  {
   "cell_type": "markdown",
   "metadata": {},
   "source": [
    "# Take the word EASY: Its first three letters — E, A and S — are the fifth, first, and nineteenth letters, respectively, in the alphabet. If you add 5, 1, and 19, you get 25, which is the value of the alphabetical position of Y, the last letter of EASY.\n",
    "\n",
    "### Can you think of a common five-letter word that works in the opposite way — in which the value of the alphabetical positions of its last four letters add up to the value of the alphabetical position of its first letter?\n",
    "\n",
    "- Think about how to break this problem down into steps and write out a plan for your solution.\n",
    "- There is a file on your mac that contains a list of words -- /usr/share/dict/words.\n",
    "- Open this file with either python or pandas and implement your solution."
   ]
  },
  {
   "cell_type": "code",
   "execution_count": 1,
   "metadata": {},
   "outputs": [
    {
     "name": "stdout",
     "output_type": "stream",
     "text": [
      "1\n",
      "8\n",
      "26\n",
      "-31\n",
      "-6\n"
     ]
    }
   ],
   "source": [
    "# can convert letters to number with a function\n",
    "print(ord('a') - 96)\n",
    "print(ord('h') - 96)\n",
    "print(ord('z') - 96)\n",
    "print(ord('A') - 96)\n",
    "print(ord('Z') - 96)\n",
    "\n",
    "# notes: need to minus by 96, does not work with capital letters"
   ]
  },
  {
   "cell_type": "code",
   "execution_count": 6,
   "metadata": {},
   "outputs": [],
   "source": [
    "# This function adds the four letters as numbers and checks if equal to first letter\n",
    "def word_test(word5):\n",
    "    #assign target sum as first letter's num\n",
    "    letter_sum = ord(word5[0]) - 96\n",
    "    \n",
    "    #assigning letters to their number values\n",
    "    num2 = ord(word5[1]) - 96\n",
    "    num3 = ord(word5[2]) - 96\n",
    "    num4 = ord(word5[3]) - 96\n",
    "    num5 = ord(word5[4]) - 96\n",
    "    \n",
    "    #creating a sum of the four letters in one variable\n",
    "    letters_sum = num2 + num3 + num4 + num5\n",
    "    \n",
    "    #return True boolean if sums are equal\n",
    "    return letter_sum == letters_sum"
   ]
  },
  {
   "cell_type": "code",
   "execution_count": 7,
   "metadata": {},
   "outputs": [
    {
     "data": {
      "text/plain": [
       "False"
      ]
     },
     "execution_count": 7,
     "metadata": {},
     "output_type": "execute_result"
    }
   ],
   "source": [
    "word_test('hello')"
   ]
  },
  {
   "cell_type": "code",
   "execution_count": 8,
   "metadata": {},
   "outputs": [],
   "source": [
    "import pandas as pd\n",
    "\n",
    "with open('/usr/share/dict/words') as f:\n",
    "    words = f.read().strip().split('\\n')\n",
    "    \n",
    "# now words is a list of strings each being one word\n",
    "# you might wish to turn it into a series\n",
    "words = pd.Series(words)"
   ]
  },
  {
   "cell_type": "code",
   "execution_count": 9,
   "metadata": {},
   "outputs": [],
   "source": [
    "def lower_word(x):\n",
    "    return x.lower()\n",
    "\n",
    "def len_5(x):\n",
    "    return len(x) == 5"
   ]
  },
  {
   "cell_type": "code",
   "execution_count": null,
   "metadata": {},
   "outputs": [],
   "source": [
    "#make sure the words are all lowercased\n",
    "words = words.apply(lower_word)"
   ]
  },
  {
   "cell_type": "code",
   "execution_count": 16,
   "metadata": {},
   "outputs": [],
   "source": [
    "#makes sure to only test words of length 5\n",
    "words = words[words.apply(len_5) == True]"
   ]
  },
  {
   "cell_type": "code",
   "execution_count": 18,
   "metadata": {},
   "outputs": [
    {
     "data": {
      "text/plain": [
       "162735    raffe\n",
       "172406    sadie\n",
       "181168    sifac\n",
       "197206    table\n",
       "210149    uchee\n",
       "226709    vakia\n",
       "228545    vicia\n",
       "230352    wanga\n",
       "231506    whack\n",
       "234120    xicak\n",
       "234512    yeara\n",
       "235088    zebra\n",
       "dtype: object"
      ]
     },
     "execution_count": 18,
     "metadata": {},
     "output_type": "execute_result"
    }
   ],
   "source": [
    "# applying function that checks the sum of letters 2-5 == letter 1\n",
    "words[words.apply(word_test) == True]"
   ]
  }
 ],
 "metadata": {
  "kernelspec": {
   "display_name": "Python 3",
   "language": "python",
   "name": "python3"
  },
  "language_info": {
   "codemirror_mode": {
    "name": "ipython",
    "version": 3
   },
   "file_extension": ".py",
   "mimetype": "text/x-python",
   "name": "python",
   "nbconvert_exporter": "python",
   "pygments_lexer": "ipython3",
   "version": "3.7.6"
  }
 },
 "nbformat": 4,
 "nbformat_minor": 4
}
